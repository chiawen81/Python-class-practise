{
 "cells": [
  {
   "cell_type": "markdown",
   "id": "24659e59",
   "metadata": {},
   "source": [
    "### 語法練習：03迴圈\n",
    "講義來源：https://docs.google.com/document/d/1x2c70Lm9UK3OfNTqnvkoFJcO8-9dBa_G/edit?usp=drive_web&ouid=113073999793927873424&rtpof=true"
   ]
  },
  {
   "cell_type": "markdown",
   "id": "c5a67a03",
   "metadata": {},
   "source": [
    "### 共用程式碼"
   ]
  },
  {
   "cell_type": "code",
   "execution_count": 4,
   "id": "054d921c",
   "metadata": {},
   "outputs": [],
   "source": [
    "# 匯入套件\n",
    "import re\n",
    "\n",
    "# 判斷是否為正整數\n",
    "def isPositiveInt(str):\n",
    "    return re.fullmatch(r\"[1-9]\\d*\", str) is not None\n",
    "\n",
    "\n",
    "# 排序大小\n",
    "def sortNum(numAry, isDsc=False):\n",
    "    new_nums = sorted(numAry, reverse=isDsc)\n",
    "    return new_nums"
   ]
  },
  {
   "cell_type": "markdown",
   "id": "6023bb31",
   "metadata": {},
   "source": [
    "### 題目1"
   ]
  },
  {
   "cell_type": "code",
   "execution_count": 5,
   "id": "7d4930fb",
   "metadata": {},
   "outputs": [
    {
     "name": "stdout",
     "output_type": "stream",
     "text": [
      "兩數總和為2040\n"
     ]
    }
   ],
   "source": [
    "### 1. 使用者輸入任意兩個正整數，算出二者之間的總合\n",
    "import re\n",
    "\n",
    "q1_firstNum = input(\"Q1. 請輸入第一個數字\")\n",
    "q1_secondNum = input(\"Q1. 請輸入第二個數字\")\n",
    "q1_total = 0\n",
    "\n",
    "# 驗證須為正整數\n",
    "if isPositiveInt(q1_firstNum) and isPositiveInt(q1_secondNum):\n",
    "    # 排序大小\n",
    "    new_numAry = sortNum([q1_firstNum, q1_secondNum])\n",
    "\n",
    "    # 計算兩數之間的加總\n",
    "    for item in range(int(new_numAry[0]), int(new_numAry[1]) + 1):\n",
    "        q1_total += item\n",
    "    print(f\"兩數總和為{q1_total}\")\n",
    "\n",
    "else:\n",
    "    print(\"發生錯誤，需傳入正整數~!\")"
   ]
  },
  {
   "cell_type": "markdown",
   "id": "9e7bed97",
   "metadata": {},
   "source": [
    "### 題目2"
   ]
  },
  {
   "cell_type": "code",
   "execution_count": 6,
   "id": "56991b8b",
   "metadata": {},
   "outputs": [
    {
     "name": "stdout",
     "output_type": "stream",
     "text": [
      "Q2. 兩數之間的偶數總和為16\n"
     ]
    }
   ],
   "source": [
    "### 2. 使用者輸入任意兩個正整數，算出二者之間的「偶數總合」\n",
    "q2_firstNum = input(\"Q2. 請輸入第一個數字\")\n",
    "q2_secondNum = input(\"Q2. 請輸入第二個數字\")\n",
    "q2_total = 0\n",
    "\n",
    "# 驗證須為正整數\n",
    "if isPositiveInt(q2_firstNum) and isPositiveInt(q2_secondNum):\n",
    "    # 排序大小\n",
    "    new_numAry = sortNum([q2_firstNum, q2_secondNum])\n",
    "\n",
    "    # 計算兩數之間的偶數加總\n",
    "    for item in range(int(new_numAry[0]), int(new_numAry[1]) + 1):\n",
    "        if item % 2 == 0:\n",
    "            q2_total += item\n",
    "    print(f\"Q2. 兩數之間的偶數總和為{q2_total}\")\n",
    "\n",
    "else:\n",
    "    print(\"發生錯誤，需傳入正整數~!\")"
   ]
  },
  {
   "cell_type": "markdown",
   "id": "a6223cef",
   "metadata": {},
   "source": [
    "### 題目3*"
   ]
  },
  {
   "cell_type": "code",
   "execution_count": null,
   "id": "aa21989a",
   "metadata": {},
   "outputs": [],
   "source": []
  },
  {
   "cell_type": "markdown",
   "id": "5f8e7d5d",
   "metadata": {},
   "source": [
    "### 題目4"
   ]
  },
  {
   "cell_type": "code",
   "execution_count": 8,
   "id": "caa8fe65",
   "metadata": {},
   "outputs": [
    {
     "name": "stdout",
     "output_type": "stream",
     "text": [
      "Q4. 兩數之間的偶數總和為5\n"
     ]
    }
   ],
   "source": [
    "### 4. 計算1到任意數之間，5的倍數的總合\n",
    "q4_num = input(\"Q4. 請輸入任意一個正整數\")\n",
    "q4_total = 0\n",
    "# 驗證是正整數\n",
    "if isPositiveInt(q4_num):\n",
    "    # 跑迴圈\n",
    "    for item in range(1, int(q4_num) + 1):\n",
    "        if item % 5 == 0:\n",
    "            q4_total += item\n",
    "    print(f\"Q4. 兩數之間的偶數總和為{q4_total}\")\n",
    "else:\n",
    "    print(\"發生錯誤，需傳入正整數~!\")"
   ]
  },
  {
   "cell_type": "markdown",
   "id": "31cc8042",
   "metadata": {},
   "source": [
    "### 題目5"
   ]
  },
  {
   "cell_type": "code",
   "execution_count": null,
   "id": "5e27e786",
   "metadata": {},
   "outputs": [
    {
     "name": "stdout",
     "output_type": "stream",
     "text": [
      "A5\n",
      "原數字為67789      \n",
      "反轉的數字為98776\n",
      "\n"
     ]
    }
   ],
   "source": [
    "### 5. 利用「%」、「//」求得反轉的數字（ex:12345→54321）\n",
    "user_input = input(\"Q5. 請輸入任意一個正整數: \")\n",
    "reversed_str = \"\"\n",
    "\n",
    "# 驗證是正整數\n",
    "if isPositiveInt(user_input):\n",
    "    num = int(user_input)\n",
    "    digit_count = len(user_input)\n",
    "\n",
    "    for i in range(1, digit_count + 1):\n",
    "        # print(f\"第{i}圈，目前數字是 {num}\")\n",
    "        digit = num % 10\n",
    "        # print(f\"正在處理的位數是 {digit}\")\n",
    "        reversed_str += str(digit)\n",
    "        # print(f\"新字串是 {reversed_str}\")\n",
    "        num //= 10\n",
    "        # print(f\"下個迴圈要處理的數字是 {num} --------\")\n",
    "\n",
    "else:\n",
    "    print(\"發生錯誤，需傳入正整數~!\")\n",
    "\n",
    "print(f'''A5\n",
    "原數字為{user_input}      \n",
    "反轉的數字為{reversed_str}\n",
    "''')"
   ]
  },
  {
   "cell_type": "markdown",
   "id": "28bfa748",
   "metadata": {},
   "source": [
    "### 題目6"
   ]
  },
  {
   "cell_type": "code",
   "execution_count": null,
   "id": "ba4cb89e",
   "metadata": {},
   "outputs": [
    {
     "name": "stdout",
     "output_type": "stream",
     "text": [
      "Q6. 5! 為 120\n"
     ]
    }
   ],
   "source": [
    "### 6. 輸入一個正整數，求n!值\n",
    "q6_num = input(\"Q6. 請輸入任意正整數求n!\")\n",
    "total = 1\n",
    "\n",
    "# 驗證是正整數\n",
    "if isPositiveInt(q6_num):\n",
    "    q6_num = int(q6_num)\n",
    "\n",
    "    for item in range(1, q6_num + 1):\n",
    "        total = total * item\n",
    "\n",
    "else:\n",
    "    print(\"發生錯誤，需傳入正整數~!\")\n",
    "\n",
    "print(f\"Q6. {q6_num}! 為 {total}\")"
   ]
  },
  {
   "cell_type": "markdown",
   "id": "ab5f0048",
   "metadata": {},
   "source": [
    "### 題目7*"
   ]
  },
  {
   "cell_type": "code",
   "execution_count": 16,
   "id": "3fa9db0c",
   "metadata": {},
   "outputs": [
    {
     "name": "stdout",
     "output_type": "stream",
     "text": [
      "1*1= 1 2*1= 2 3*1= 3 4*1= 4 5*1= 5 1*2= 2 2*2= 4 3*2= 6 4*2= 8 5*2=10 1*3= 3 2*3= 6 3*3= 9 4*3=12 5*3=15 1*4= 4 2*4= 8 3*4=12 4*4=16 5*4=20 1*5= 5 2*5=10 3*5=15 4*5=20 5*5=25 "
     ]
    }
   ],
   "source": [
    "'''題目：\n",
    "    (1) 請使用迴圈敘述撰寫程式，讓使用者輸入一個正整數n (n < 10)，顯示 n*n乘法表。\n",
    "    (2)每項運算式格式化排列整齊，每個運算子與運算元輸出的欄寬為2，而每項成績輸出的欄寬為4，皆靠左對齊不跳行。\n",
    "    (3)若輸入大於或等於10，顯示”輸入錯誤！數字不能大於或等於10”\n",
    "'''\n",
    "\n",
    "n = int (input('請輸入小於10的整數：'))\n",
    "\n",
    "if n < 10:\n",
    "\n",
    "    for i in range (1, n+1):\n",
    "        for j in range(1, n+1):\n",
    "            print('%d*%-d=%2d '%(j,i,j*i),end='')\n",
    "else:\n",
    "    print(\"輸入錯誤，值大於或等於10\")"
   ]
  },
  {
   "cell_type": "markdown",
   "id": "04b7895c",
   "metadata": {},
   "source": [
    "### 題目8*"
   ]
  },
  {
   "cell_type": "code",
   "execution_count": 24,
   "id": "5938f273",
   "metadata": {},
   "outputs": [
    {
     "name": "stdout",
     "output_type": "stream",
     "text": [
      "各個位數的數字相加的結果為：15\n",
      "各個位數的數字相加的結果為：17\n",
      "各個位數的數字相加的結果為：15\n",
      "各個位數的數字相加的結果為：15\n",
      "各個位數的數字相加的結果為：15\n"
     ]
    }
   ],
   "source": [
    "'''題目：\n",
    "    請使用迴圈敘述撰寫程式，讓使用者輸入一個正整數，代表後面要測試的次數。 每次測試都是輸入一個正整數，將所有位數加起來輸出結果\n",
    "'''\n",
    "\n",
    "import os\n",
    "os.system(\"cls\")\n",
    "\n",
    "# 使用者輸入要測試的次數\n",
    "n = int(input(\"請輸入要測試的次數：\"))\n",
    "\n",
    "# 進入迴圈\n",
    "for i in range(n):\n",
    "    num = int(input(f\"請輸入第 {i+1} 個正整數：\"))\n",
    "    \n",
    "    # 把整數轉成字串，逐位相加\n",
    "    total = 0\n",
    "    for digit in str(num):\n",
    "        total += int(digit)\n",
    "    \n",
    "    print(f\"各個位數的數字相加的結果為：{total}\")"
   ]
  },
  {
   "cell_type": "markdown",
   "id": "308160be",
   "metadata": {},
   "source": [
    "### 題目9*"
   ]
  },
  {
   "cell_type": "code",
   "execution_count": 22,
   "id": "ef03c17e",
   "metadata": {},
   "outputs": [
    {
     "name": "stdout",
     "output_type": "stream",
     "text": [
      "月份 \t 存款總額\n",
      "  1 \t 10041.67\n",
      "  2 \t 10083.51\n",
      "  3 \t 10125.52\n",
      "  4 \t 10167.71\n",
      "  5 \t 10210.08\n",
      "  6 \t 10252.62\n"
     ]
    }
   ],
   "source": [
    "'''題目：\n",
    "    使用者輸入一筆存款金額、年利率及經過的月份，並顯示每個月存款總額。輸出到小數點第二位數。\n",
    "    例：存款10000 年利率5.75%\n",
    "    滿一個月，存款為：10000+1000*5.75/1200=10047.92\n",
    "    滿二個月，存款為：10047.92+10047.92*5.75/1200=10096.06\n",
    "    滿三個月，存款為：10096.06+10096.06*5.75/1200=10144.44 餘下類推\n",
    "'''\n",
    "\n",
    "amount = eval(input('請輸入本金'))\n",
    "rate = eval(input('請輸入利率'))\n",
    "months = eval(input('請輸入月份'))\n",
    "\n",
    "\n",
    "total = amount\n",
    "print('%s \\t %s' % ('月份','存款總額'))\n",
    "for i in range (1, months + 1):\n",
    "    total += total * rate /1200\n",
    "    print('%3d \\t %.2f'%(i,total))"
   ]
  }
 ],
 "metadata": {
  "kernelspec": {
   "display_name": "Python 3",
   "language": "python",
   "name": "python3"
  },
  "language_info": {
   "codemirror_mode": {
    "name": "ipython",
    "version": 3
   },
   "file_extension": ".py",
   "mimetype": "text/x-python",
   "name": "python",
   "nbconvert_exporter": "python",
   "pygments_lexer": "ipython3",
   "version": "3.13.7"
  }
 },
 "nbformat": 4,
 "nbformat_minor": 5
}
