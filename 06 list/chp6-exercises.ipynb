{
 "cells": [
  {
   "cell_type": "markdown",
   "id": "24659e59",
   "metadata": {},
   "source": [
    "### 語法練習：06串列\n",
    "講義來源：https://docs.google.com/document/d/1RyNQFOkhgpnxqpBctsN1txDgIGqQnyKD/edit"
   ]
  },
  {
   "cell_type": "code",
   "execution_count": 1,
   "id": "8d0ac38b",
   "metadata": {},
   "outputs": [],
   "source": [
    "# 共用程式碼\n",
    "##################################################\n",
    "import re\n",
    "\n",
    "\n",
    "# 判斷是否為正整數\n",
    "def isPositiveInt(str):\n",
    "    return re.fullmatch(r\"[1-9]\\d*\", str) is not None"
   ]
  },
  {
   "cell_type": "markdown",
   "id": "6023bb31",
   "metadata": {},
   "source": [
    "### 題目1"
   ]
  },
  {
   "cell_type": "code",
   "execution_count": null,
   "id": "7d4930fb",
   "metadata": {},
   "outputs": [],
   "source": [
    "### 題目一 ###\n",
    "# 使用隨機方式產生樂透號碼 6個數字(1~49)，並存放入串列中，印出結果\n",
    "import random\n",
    "\n",
    "\n",
    "def get_lotto():\n",
    "    lotto = []\n",
    "    for item in range(6):\n",
    "        num = random.randint(1, 49)\n",
    "        lotto.append(num)\n",
    "    return lotto\n",
    "\n",
    "\n",
    "print(f\"Q1. 取得樂透號碼{get_lotto()}\")\n"
   ]
  },
  {
   "cell_type": "markdown",
   "id": "9e7bed97",
   "metadata": {},
   "source": [
    "### 題目2"
   ]
  },
  {
   "cell_type": "code",
   "execution_count": null,
   "id": "56991b8b",
   "metadata": {},
   "outputs": [],
   "source": [
    "### 題目二 ###\n",
    "# 承上，上述產生的樂透號碼不可重複\n",
    "def get_lotto_without_same():\n",
    "    lotto = []\n",
    "\n",
    "    for item in range(6):\n",
    "        while True:\n",
    "            num = random.randint(1, 49)\n",
    "\n",
    "            if num not in lotto:\n",
    "                lotto.append(num)\n",
    "                break\n",
    "\n",
    "    return lotto\n",
    "\n",
    "\n",
    "print(f\"Q2. 取得不重複的樂透號碼{get_lotto_without_same()}\")"
   ]
  },
  {
   "cell_type": "markdown",
   "id": "a6223cef",
   "metadata": {},
   "source": [
    "### 題目3"
   ]
  },
  {
   "cell_type": "code",
   "execution_count": null,
   "id": "aa21989a",
   "metadata": {},
   "outputs": [],
   "source": [
    "### 題目三 ###\n",
    "# 人工輸入12個正整數，存入串列，排序後輸出結果\n",
    "\n",
    "# Step1：取得user輸入的字串，並要求user以\",\"分隔這12個正整數\n",
    "original_data = input(\"Q3. 請輸入12個正整數，並以','號區隔\")\n",
    "\n",
    "\n",
    "# Step2：將這12個正整數裝進陣列裡\n",
    "def trans_data_to_list():\n",
    "    new_list = []\n",
    "\n",
    "    if \",\" in original_data:\n",
    "        new_list = original_data.split(\",\")\n",
    "\n",
    "    return new_list\n",
    "\n",
    "\n",
    "# Step3：驗證並轉成陣列包數字\n",
    "def trans_int(list_str):\n",
    "    new_list = []\n",
    "\n",
    "    # 驗證：使用者有輸入12個數字\n",
    "    if len(list_str) == 12:\n",
    "        new_list = [int(item) for item in list_str if isPositiveInt(item)]\n",
    "\n",
    "    return new_list\n",
    "\n",
    "\n",
    "# 主程式\n",
    "def get_list():\n",
    "    list_str = trans_data_to_list()\n",
    "    # print(f\"取得陣列：{list_str}\")\n",
    "\n",
    "    list_num = trans_int(list_str)\n",
    "    # print(f\"取得轉成數字後的陣列：{list_num}\")\n",
    "\n",
    "    new_list = list_num.sort() if (len(list_num) == 12) else []\n",
    "    # print(f\"取得排列後的陣列：{  list_num}\")\n",
    "\n",
    "    return new_list\n",
    "\n",
    "\n",
    "print(f\"main-取得排列後的陣列：{get_list()}\")"
   ]
  },
  {
   "cell_type": "markdown",
   "id": "5f8e7d5d",
   "metadata": {},
   "source": [
    "### 題目4"
   ]
  },
  {
   "cell_type": "code",
   "execution_count": null,
   "id": "caa8fe65",
   "metadata": {},
   "outputs": [],
   "source": [
    "### 題目四 ###\n",
    "# 隨機輸出五張撲克牌，不論花色，點數存放到串列中，計算點數\n",
    "def get_random_poker():\n",
    "    total = 0\n",
    "    card_record = \"\"\n",
    "\n",
    "    for item in range(5):\n",
    "        num = random.randint(1, 13)\n",
    "        total = total + num\n",
    "        card_record = card_record + str(num) + \",\"\n",
    "\n",
    "    print(\n",
    "        f\"\"\"Q4. \n",
    "拿的牌:{card_record}\n",
    "加總:{total}\n",
    "          \"\"\"\n",
    "    )\n",
    "\n",
    "\n",
    "get_random_poker()"
   ]
  },
  {
   "cell_type": "markdown",
   "id": "31cc8042",
   "metadata": {},
   "source": [
    "### 題目5"
   ]
  },
  {
   "cell_type": "code",
   "execution_count": null,
   "id": "5e27e786",
   "metadata": {},
   "outputs": [],
   "source": [
    "'''\n",
    "2.11.5  使用者輸入十個數字存放串列中，接著由大到小順序顯示最大的三個數字\n",
    "'''\n",
    "lst = []\n",
    "\n",
    "\n",
    "for i in range (0,10):\n",
    "    lst.append(int(input(f'Input lst[{i}]= ')))\n",
    "lst.sort()\n",
    "\n",
    "\n",
    "for i in range(-1,-4,-1):\n",
    "    print('%d' %lst[i],end = ' ')\n"
   ]
  },
  {
   "cell_type": "markdown",
   "id": "28bfa748",
   "metadata": {},
   "source": [
    "### 題目6"
   ]
  },
  {
   "cell_type": "code",
   "execution_count": null,
   "id": "ba4cb89e",
   "metadata": {},
   "outputs": [],
   "source": [
    "'''\n",
    "2.11.6  使用者輸入十個數字，做為樣本數，輸出眾數(出現最多次數的數字)\n",
    "'''\n",
    "sample = []\n",
    "count = [0]*10\n",
    "\n",
    "\n",
    "for i in range(len(count)):\n",
    "    num = int (input('Input integer:'))\n",
    "\n",
    "\n",
    "    sample.append(num)\n",
    "    a = sample.index(num)   #找出輸入的值是否曾經出現過，出現的索引值位置\n",
    "    count[a] += 1          #將相同位置的count索引值加1\n",
    "\n",
    "\n",
    "num_occu = max(count)       #找出count[]中最大的值\n",
    "\n",
    "\n",
    "print(sample[count.index(num_occu)]) #索引count[]最大值的所在位置，對應sample[]的內容\n",
    "print(num_occu)\n"
   ]
  },
  {
   "cell_type": "markdown",
   "id": "ab5f0048",
   "metadata": {},
   "source": [
    "### 題目7"
   ]
  },
  {
   "cell_type": "code",
   "execution_count": null,
   "id": "3fa9db0c",
   "metadata": {},
   "outputs": [],
   "source": [
    "'''\n",
    "2.11.7  使用迴圈反覆輸入成績直到-9999結束，輸出最大值、最小值，加總與平均\n",
    "'''\n",
    "\n",
    "\n",
    "lst = []\n",
    "\n",
    "\n",
    "while True:\n",
    "    a = eval(input('輸入成績：'))\n",
    "    if a == -9999:\n",
    "        break\n",
    "    else:\n",
    "        lst.append(a)\n",
    "\n",
    "\n",
    "tol = sum(lst)\n",
    "print('最大值：',max(lst),'最小值：',min(lst))\n",
    "print('總分：%.2f，平均：%.2f'%(tol,tol/len(lst)))"
   ]
  },
  {
   "cell_type": "markdown",
   "id": "04b7895c",
   "metadata": {},
   "source": [
    "### 題目8"
   ]
  },
  {
   "cell_type": "code",
   "execution_count": null,
   "id": "5938f273",
   "metadata": {},
   "outputs": [],
   "source": [
    "\n",
    "'''\n",
    "2.11.8  設定一個串列，建立5個部門員工姓名，透過迴圈輸入員工成績，接下來依照成績排序輸出評核等級\n",
    "成績  等級\n",
    "90~100  A\n",
    "80~89   B\n",
    "70~79   C\n",
    "60~69   D\n",
    "60(不含)以下    E\n",
    "'''\n",
    "\n",
    "\n",
    "name = ['王大','老李','葉門','阿標','修仁']\n",
    "score = [0]*len(name)\n",
    "num = [90,80,70,60]\n",
    "rank = ['A','B','C','D','E']\n",
    "\n",
    "\n",
    "for i in range(len(name)):\n",
    "    score[i] = eval(input(f'{name[i]}：'))\n",
    "    if score[i] > 100:\n",
    "        print('input error')\n",
    "    if num[0] <= score[i]:\n",
    "        score[i] = rank[0]\n",
    "    elif num[1] <= score[i] <num[0]:\n",
    "        score[i] = rank[1]\n",
    "    elif num[2] <= score[i] <num[0]:\n",
    "        score[i] = rank[2]\n",
    "    elif num[3] <= score[i] <num[0]:\n",
    "        score[i] = rank[3]\n",
    "    else:\n",
    "        score[i] =  rank[4]\n",
    "\n",
    "\n",
    "for i in range(len(name)):\n",
    "    print(f'{name[i]}成績為：{score[i]}')"
   ]
  }
 ],
 "metadata": {
  "kernelspec": {
   "display_name": "venv1",
   "language": "python",
   "name": "python3"
  },
  "language_info": {
   "codemirror_mode": {
    "name": "ipython",
    "version": 3
   },
   "file_extension": ".py",
   "mimetype": "text/x-python",
   "name": "python",
   "nbconvert_exporter": "python",
   "pygments_lexer": "ipython3",
   "version": "3.11.13"
  }
 },
 "nbformat": 4,
 "nbformat_minor": 5
}
