{
 "cells": [
  {
   "cell_type": "markdown",
   "id": "24659e59",
   "metadata": {},
   "source": [
    "### 語法練習：01變數與算數運算子114\n",
    "###### 講義來源：https://docs.google.com/document/d/1UB0wiR4E-7fcTISHvmjK755jN0AfUX2R/edit?usp=sharing&ouid=113073999793927873424&rtpof=true&sd=true"
   ]
  },
  {
   "cell_type": "markdown",
   "id": "6023bb31",
   "metadata": {},
   "source": [
    "### 題目1"
   ]
  },
  {
   "cell_type": "code",
   "execution_count": 1,
   "id": "7d4930fb",
   "metadata": {},
   "outputs": [
    {
     "name": "stdout",
     "output_type": "stream",
     "text": [
      "=========排版前==========\n",
      "1234 123456 12\n",
      "12 123 123456\n",
      "=========排版後==========\n",
      "    1234   123456       12\n",
      "      12      123   123456\n"
     ]
    }
   ],
   "source": [
    "x = 1234\n",
    "y = 123456\n",
    "z = 12\n",
    "p = 12\n",
    "q = 123\n",
    "r = 123456\n",
    "\n",
    "print(\"=========排版前==========\")\n",
    "print(x, y, z)\n",
    "print(p, q, r)\n",
    "print(\"=========排版後==========\")\n",
    "print(f\"{x:8} {y:8} {z:8}\\n{p:8} {q:8} {r:8}\") "
   ]
  },
  {
   "cell_type": "markdown",
   "id": "9e7bed97",
   "metadata": {},
   "source": [
    "### 題目2"
   ]
  },
  {
   "cell_type": "code",
   "execution_count": 2,
   "id": "56991b8b",
   "metadata": {},
   "outputs": [
    {
     "name": "stdout",
     "output_type": "stream",
     "text": [
      "2公斤為4.40924磅\n"
     ]
    }
   ],
   "source": [
    "### 題目二 ###\n",
    "q2_user=input(\"請輸入公斤：\")\n",
    "print(f\"{q2_user}公斤為{float(q2_user)*2.20462}磅\")"
   ]
  },
  {
   "cell_type": "markdown",
   "id": "a6223cef",
   "metadata": {},
   "source": [
    "### 題目3"
   ]
  },
  {
   "cell_type": "code",
   "execution_count": null,
   "id": "aa21989a",
   "metadata": {},
   "outputs": [
    {
     "name": "stdout",
     "output_type": "stream",
     "text": [
      "三個數的平均值為1.28\n"
     ]
    }
   ],
   "source": [
    "q3_user_1=float(input(\"共三筆資料，請輸入第1筆資料：\"))\n",
    "q3_user_2=float(input(\"共三筆資料，請輸入第2筆資料：\"))\n",
    "q3_user_3=float(input(\"共三筆資料，請輸入第3筆資料：\"))\n",
    "q3_avg=(q3_user_1+q3_user_2+q3_user_3)/3\n",
    "print(f\"三個數的平均值為{q3_avg:.2f}\")"
   ]
  },
  {
   "cell_type": "markdown",
   "id": "5f8e7d5d",
   "metadata": {},
   "source": [
    "### 題目4"
   ]
  },
  {
   "cell_type": "code",
   "execution_count": null,
   "id": "caa8fe65",
   "metadata": {},
   "outputs": [
    {
     "name": "stdout",
     "output_type": "stream",
     "text": [
      "3.61\n"
     ]
    }
   ],
   "source": [
    "import math,os  #載入數學函數\n",
    "os.system(\"cls\")\n",
    "x1,y1 = eval(input(\"請輸入x1,y1座標(以逗號分隔)\")) # eval()可以同時輸入兩個數，但中間要用逗號分隔\n",
    "x2,y2 = eval(input(\"請輸入x2,y2座標(以逗號分隔)\")) \n",
    "x = math.pow((x2-x1),2)    #次方函數，\"2\"表示2次方\n",
    "y = math.pow((y2-y1),2)\n",
    "line = math.sqrt(x+y)      #開根號\n",
    "print (f\"{line:.2f}\")"
   ]
  },
  {
   "cell_type": "markdown",
   "id": "31cc8042",
   "metadata": {},
   "source": [
    "### 題目5"
   ]
  },
  {
   "cell_type": "code",
   "execution_count": null,
   "id": "5e27e786",
   "metadata": {},
   "outputs": [
    {
     "name": "stdout",
     "output_type": "stream",
     "text": [
      "1需要\n",
      "      1個1元硬幣\n",
      "      1個5元硬幣\n",
      "      1個10元硬幣\n",
      "      1個50元硬幣\n",
      "      總金額為66\n",
      "      \n"
     ]
    }
   ],
   "source": [
    "q5_username=input(\"請輸入您的姓名：\")\n",
    "q5_coin_num_1=input(\"請輸入您要的1元數量：\")\n",
    "q5_coin_num_5=input(\"請輸入您要的5元數量：\")\n",
    "q5_coin_num_10=input(\"請輸入您要的10元數量：\")\n",
    "q5_coin_num_50=input(\"請輸入您要的50元數量：\")\n",
    "q5_sum=float(q5_coin_num_1)*1+float(q5_coin_num_5)*5+float(q5_coin_num_10)*10+float(q5_coin_num_50)*50\n",
    "print(f\"\"\"{q5_username}需要\n",
    "      {q5_coin_num_1}個1元硬幣\n",
    "      {q5_coin_num_5}個5元硬幣\n",
    "      {q5_coin_num_10}個10元硬幣\n",
    "      {q5_coin_num_50}個50元硬幣\n",
    "      總金額為{int(q5_sum)}元\n",
    "      \"\"\")\n"
   ]
  },
  {
   "cell_type": "markdown",
   "id": "28bfa748",
   "metadata": {},
   "source": [
    "### 題目6"
   ]
  },
  {
   "cell_type": "code",
   "execution_count": null,
   "id": "ba4cb89e",
   "metadata": {},
   "outputs": [],
   "source": [
    "import math,os\n",
    "os.system(\"cls\")\n",
    "x = eval(input(\"請輸入x的值：\"))\n",
    "y = 3*(math.pow(x,3))+2*x-1     # x 的3次方以math.pow表示\n",
    "print(f\"f({x})={y}\")"
   ]
  },
  {
   "cell_type": "markdown",
   "id": "ab5f0048",
   "metadata": {},
   "source": [
    "### 題目7"
   ]
  },
  {
   "cell_type": "code",
   "execution_count": 10,
   "id": "3fa9db0c",
   "metadata": {},
   "outputs": [
    {
     "name": "stdout",
     "output_type": "stream",
     "text": [
      "圓形面積：15.707963\n",
      "三角形面積：25.0\n",
      "長方形面積：50\n",
      "圖形面積為：90.707963\n"
     ]
    }
   ],
   "source": [
    "### 計算圓形面積\n",
    "circle_radius=5 # 半徑\n",
    "pi=3.1415926\n",
    "circle_area=circle_radius*pi\n",
    "print(f\"圓形面積：{circle_area}\")\n",
    "\n",
    "\n",
    "### 計算三角形面積\n",
    "triangle_bottom=10\n",
    "triangle_hight=5\n",
    "triangle_area=triangle_bottom*triangle_hight/2\n",
    "print(f\"三角形面積：{triangle_area}\")\n",
    "\n",
    "\n",
    "### 計算長方形面積\n",
    "rectangle_length=5\n",
    "rectangle_width=10\n",
    "rectangle_area=rectangle_length*rectangle_width\n",
    "print(f\"長方形面積：{rectangle_area}\")\n",
    "\n",
    "### 計算圖形面積\n",
    "print(f\"圖形面積為：{circle_area+triangle_area+rectangle_area}\")"
   ]
  },
  {
   "cell_type": "markdown",
   "id": "04b7895c",
   "metadata": {},
   "source": [
    "### 題目8"
   ]
  },
  {
   "cell_type": "code",
   "execution_count": null,
   "id": "5938f273",
   "metadata": {},
   "outputs": [],
   "source": []
  },
  {
   "cell_type": "markdown",
   "id": "308160be",
   "metadata": {},
   "source": [
    "### 題目9"
   ]
  },
  {
   "cell_type": "code",
   "execution_count": null,
   "id": "ef03c17e",
   "metadata": {},
   "outputs": [],
   "source": []
  }
 ],
 "metadata": {
  "kernelspec": {
   "display_name": "Python 3",
   "language": "python",
   "name": "python3"
  },
  "language_info": {
   "codemirror_mode": {
    "name": "ipython",
    "version": 3
   },
   "file_extension": ".py",
   "mimetype": "text/x-python",
   "name": "python",
   "nbconvert_exporter": "python",
   "pygments_lexer": "ipython3",
   "version": "3.13.7"
  }
 },
 "nbformat": 4,
 "nbformat_minor": 5
}
