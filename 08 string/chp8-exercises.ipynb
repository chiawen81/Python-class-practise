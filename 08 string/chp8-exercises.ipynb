{
 "cells": [
  {
   "cell_type": "markdown",
   "id": "24659e59",
   "metadata": {},
   "source": [
    "### 語法練習：08字串\n",
    "講義來源：https://docs.google.com/document/d/1Wq0DhWp0Ik12oOZAP84GR1xu1ani6K6a/edit"
   ]
  },
  {
   "cell_type": "markdown",
   "id": "6023bb31",
   "metadata": {},
   "source": [
    "### 題目1"
   ]
  },
  {
   "cell_type": "code",
   "execution_count": null,
   "id": "7d4930fb",
   "metadata": {},
   "outputs": [],
   "source": [
    "# 1.使用者輸入一個字串，顯示該字串的每一個字元索引\n",
    "\n",
    "\n",
    "S = input(\"輸入一個字串：\")\n",
    "for i in range(len(S)):\n",
    "    print('第%d個字元為 %s' % (i,S[i]))"
   ]
  },
  {
   "cell_type": "markdown",
   "id": "9e7bed97",
   "metadata": {},
   "source": [
    "### 題目2"
   ]
  },
  {
   "cell_type": "code",
   "execution_count": null,
   "id": "56991b8b",
   "metadata": {},
   "outputs": [],
   "source": [
    "# 2.使用者輸入一個字串，顯示每個字元對應的ASCII碼，並將ASCII碼加總\n",
    "\n",
    "\n",
    "total = 0\n",
    "S = input(\"輸入一個字串：\")\n",
    "\n",
    "\n",
    "for i in range(0,len(S)):\n",
    "    num = ord(S[i])\n",
    "    print(f\"{S[i]}的ASCII碼為{num}\")\n",
    "    total += num\n",
    "print(f\"ASCII的總和為{total}\")"
   ]
  },
  {
   "cell_type": "markdown",
   "id": "a6223cef",
   "metadata": {},
   "source": [
    "### 題目3"
   ]
  },
  {
   "cell_type": "code",
   "execution_count": null,
   "id": "aa21989a",
   "metadata": {},
   "outputs": [],
   "source": [
    "# 3.使用者輸入一個句子，(至少五個詞，以空白隔開，並輸出倒數三個詞)\n",
    "#想不出要輸入甚麼可用範例句： It is better to learn a certain trade than to possess a large fortune. \n",
    "\n",
    "\n",
    "S = input(\"輸入一句話：\")\n",
    "lst = S.split(' ')  #以空白分割字串後將單字存放到串列內\n",
    "# print(lst) #檢視串列內容\n",
    "\n",
    "\n",
    "print(' '.join(lst[-3:])) #由後往前算第3個空白到最後所有的字合併輸出為新的字串"
   ]
  },
  {
   "cell_type": "markdown",
   "id": "5f8e7d5d",
   "metadata": {},
   "source": [
    "### 題目4"
   ]
  },
  {
   "cell_type": "code",
   "execution_count": null,
   "id": "caa8fe65",
   "metadata": {},
   "outputs": [],
   "source": [
    "# 4.使用者輸入一個字串，將字串1.全部改為大寫。2.每個字第一個字母改為大寫。\n",
    "# 輸入範例： Practice makes perfect.\n",
    "S = input(\"輸入一個字串：\")\n",
    "S1 = S.upper()   #全部改大寫\n",
    "S2 = S.title()   #每個字第一個字母改大寫\n",
    "print(f\"1.{S1} \\n2.{S2}\")"
   ]
  },
  {
   "cell_type": "markdown",
   "id": "31cc8042",
   "metadata": {},
   "source": [
    "### 題目5"
   ]
  },
  {
   "cell_type": "code",
   "execution_count": null,
   "id": "5e27e786",
   "metadata": {},
   "outputs": [],
   "source": [
    "# 5.使用者輸入一個字串和一個字元，計算字串中，字元出現的次數。\n",
    "\n",
    "\n",
    "S = input('輸入一個字串：')\n",
    "C = input('輸入一個字元：')\n",
    "\n",
    "\n",
    "n = S.count(C)\n",
    "print (\"%c 一共出現%d次\"%(C,n))"
   ]
  },
  {
   "cell_type": "markdown",
   "id": "28bfa748",
   "metadata": {},
   "source": [
    "### 題目6"
   ]
  },
  {
   "cell_type": "code",
   "execution_count": null,
   "id": "ba4cb89e",
   "metadata": {},
   "outputs": [],
   "source": [
    "# 6.使用者輸入一個字串，字串為五個數字，以空白隔開，加總五個數字並計算平均\n",
    "tol = 0\n",
    "S = input(\"輸入五個數字，以空白隔開：\")\n",
    "lst = [int(i) for i in S.split(' ')] #使用迴圈，將字串分割出來的每個數字轉為整數\n",
    "# print (lst)     #檢視串列內容\n",
    "\n",
    "\n",
    "tol = sum(lst)\n",
    "print (\"數字總和為：\",tol)"
   ]
  },
  {
   "cell_type": "markdown",
   "id": "ab5f0048",
   "metadata": {},
   "source": [
    "### 題目7"
   ]
  },
  {
   "cell_type": "code",
   "execution_count": null,
   "id": "3fa9db0c",
   "metadata": {},
   "outputs": [],
   "source": [
    "#7.使用者輸入一串序號，格式為ddd-dd-ddd ，d為數字。檢查輸入格式正確，則輸出\"格式正確！\"，否則輸出\"格式錯誤！\"\n",
    "\n",
    "\n",
    "S = input(\"請輸入序號：\")\n",
    "sn = len(S) == 10               #若資料長度為10 sn 設為True，不等設為False\n",
    "if sn:                          # if sn == True 簡化寫法\n",
    "    for i in range(len(S)):\n",
    "        if i == 3 or i == 6:    #位址3和6的字元必須是 '-' 號\n",
    "            if S[i] != '-':\n",
    "                sn = False      #不是'-'號將sn 設為False\n",
    "                break\n",
    "        elif not S[i].isdigit(): #位址3和6以外的字元必須是數字\n",
    "            sn = False           #若不是，sn設為False\n",
    "            break\n",
    "if sn:\n",
    "    print(\"格式正確！\")\n",
    "else:\n",
    "    print(\"格式錯誤！\")\n"
   ]
  },
  {
   "cell_type": "markdown",
   "id": "04b7895c",
   "metadata": {},
   "source": [
    "### 題目8"
   ]
  },
  {
   "cell_type": "code",
   "execution_count": null,
   "id": "5938f273",
   "metadata": {},
   "outputs": [],
   "source": [
    "'''\n",
    "8.使用者輸入一組字串，檢查是否符合規則：\n",
    "1.至少8個字元，2.只有英文字母和數字，3.至少有一個大寫英文字母。\n",
    "符合顯示\"密碼已設定\"，不合顯示\"密碼設定不符規則\"\n",
    "'''\n",
    "\n",
    "\n",
    "pwd = input(\"請輸入密碼：\")\n",
    "chk = len(pwd) >= 8                       #至少8個字元\n",
    "if pwd.isalpha() or pwd.isdigit() or pwd.islower(): \n",
    "#不能全部英文、數字、小寫字母\n",
    "    chk = False\n",
    "else:      #檢查是否只有英文字母和數字(不能是特殊符號)\n",
    "    for i in range(len(pwd)):                       \n",
    "#把輸入內容用迴圈逐一檢查，不能有英文與數字以外符號\n",
    "        if not pwd[i].isalpha() and not pwd[i].isdigit():\n",
    "            chk = False                             \n",
    "            break\n",
    "\n",
    "\n",
    "if chk :\n",
    "    print(\"密碼已設定\")\n",
    "else:\n",
    "    print(\"密碼設定不符規則\")"
   ]
  }
 ],
 "metadata": {
  "kernelspec": {
   "display_name": "Python 3",
   "language": "python",
   "name": "python3"
  },
  "language_info": {
   "codemirror_mode": {
    "name": "ipython",
    "version": 3
   },
   "file_extension": ".py",
   "mimetype": "text/x-python",
   "name": "python",
   "nbconvert_exporter": "python",
   "pygments_lexer": "ipython3",
   "version": "3.13.7"
  }
 },
 "nbformat": 4,
 "nbformat_minor": 5
}
