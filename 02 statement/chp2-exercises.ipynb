{
 "cells": [
  {
   "cell_type": "markdown",
   "id": "cb2147cd",
   "metadata": {},
   "source": [
    "### 語法練習：02選擇敘述\n",
    "講義來源：https://docs.google.com/document/d/1A2lV02z96yI2xYMtONUTvGEea8sf1atZ/edit"
   ]
  },
  {
   "cell_type": "markdown",
   "id": "20054fc7",
   "metadata": {},
   "source": [
    "### 題目一"
   ]
  },
  {
   "cell_type": "code",
   "execution_count": null,
   "id": "568bb739",
   "metadata": {},
   "outputs": [
    {
     "name": "stdout",
     "output_type": "stream",
     "text": [
      "是否為偶數： False\n"
     ]
    }
   ],
   "source": [
    "### 1. 判斷偶數的函式\n",
    "def isEven(num):\n",
    "    if num % 2 == 0:\n",
    "        return True\n",
    "    else:\n",
    "        return False\n",
    "\n",
    "\n",
    "print(\"是否為偶數：\", isEven(int(input(\"Q1. 請輸入數字判斷奇偶數\"))))"
   ]
  },
  {
   "cell_type": "markdown",
   "id": "0be85321",
   "metadata": {},
   "source": [
    "### 題目二"
   ]
  },
  {
   "cell_type": "code",
   "execution_count": 2,
   "id": "465416a6",
   "metadata": {},
   "outputs": [
    {
     "name": "stdout",
     "output_type": "stream",
     "text": [
      "2不是3或5的倍數\n"
     ]
    }
   ],
   "source": [
    "### 2.判斷是否為3或5的倍數\n",
    "def isMultipleOf3or5(num):\n",
    "    if num % 3 == 0 and num % 5 == 0:\n",
    "        print(f\"{num}是3跟5的倍數\")\n",
    "    elif num % 3 == 0 and num % 5 != 0:\n",
    "        print(f\"{num}是3的倍數\")\n",
    "    elif num % 3 != 0 and num % 5 == 0:\n",
    "        print(f\"{num}是5的倍數\")\n",
    "    else:\n",
    "        print(f\"{num}不是3或5的倍數\")\n",
    "\n",
    "\n",
    "isMultipleOf3or5(int(input(\"Q2. 請輸入數字\")))"
   ]
  },
  {
   "cell_type": "markdown",
   "id": "0b7b2c1b",
   "metadata": {},
   "source": [
    "### 題目三"
   ]
  },
  {
   "cell_type": "code",
   "execution_count": 6,
   "id": "3844acb7",
   "metadata": {},
   "outputs": [
    {
     "name": "stdout",
     "output_type": "stream",
     "text": [
      "是否為閏年： False\n"
     ]
    }
   ],
   "source": [
    "### 3. 判斷閏年\n",
    "'''NOTE:\n",
    "    1. 每四年一閏\n",
    "    2. 每百年不閏\n",
    "    3. 每四百年再閏\n",
    "'''\n",
    "\n",
    "def isLeapYear(year):\n",
    "    if year % 4 == 0:\n",
    "        if year % 400 == 0:\n",
    "            return True\n",
    "        elif year % 100 == 0:\n",
    "            return False\n",
    "        else:\n",
    "            return True\n",
    "    else:\n",
    "        return False\n",
    "\n",
    "\n",
    "print(\"是否為閏年：\", isLeapYear(int(input(\"Q3. 請輸入年份判斷是否為閏年\"))))"
   ]
  },
  {
   "cell_type": "markdown",
   "id": "17a7a0fc",
   "metadata": {},
   "source": [
    "### 題目四"
   ]
  },
  {
   "cell_type": "code",
   "execution_count": 12,
   "id": "f4ebd32a",
   "metadata": {},
   "outputs": [
    {
     "name": "stdout",
     "output_type": "stream",
     "text": [
      "運算結果 3 + 5 = 8\n"
     ]
    }
   ],
   "source": [
    "### 4. 任意數字做運算\n",
    "import re\n",
    "\n",
    "num1 = int(input(\"Q4. STEP1: 請輸入第一個數字\"))\n",
    "num2 = int(input(\"Q4. STEP2: 請輸入第二個數字 \"))\n",
    "operator = input(\"Q4. STEP3: 請輸入運算子(+,-,*,%): \")\n",
    "\n",
    "\n",
    "def calculate(num1, num2, operator):\n",
    "    if inputInvalid(num1, num2, operator):\n",
    "        if operator == \"+\":\n",
    "            return num1 + num2\n",
    "        if operator == \"-\":\n",
    "            return num1 - num2\n",
    "        if operator == \"*\":\n",
    "            return num1 * num2\n",
    "        if operator == \"%\":\n",
    "            return num1 % num2\n",
    "\n",
    "\n",
    "def inputInvalid(num1, num2, operator):\n",
    "    if re.fullmatch(r\"\\d+\", str(num1)) == False:\n",
    "        return {\"isInvalid\": True, \"msg\": \"第一個數字無效\"}\n",
    "    elif re.fullmatch(r\"\\d+\", str(num2)) == False:\n",
    "        return {\"isInvalid\": True, \"msg\": \"第二個數字無效\"}\n",
    "    elif operator in [\"+\", \"-\", \"*\", \"%\"] == False:\n",
    "        return {\"isInvalid\": True, \"msg\": \"運算子無效\"}\n",
    "    else:\n",
    "        return {\"isInvalid\": False}\n",
    "\n",
    "\n",
    "print(f\"運算結果 {num1} {operator} {num2} =\", calculate(num1, num2, operator))\n"
   ]
  },
  {
   "cell_type": "markdown",
   "id": "16a2ecb8",
   "metadata": {},
   "source": [
    "### 題目五"
   ]
  },
  {
   "cell_type": "code",
   "execution_count": 11,
   "id": "cb0c3de0",
   "metadata": {},
   "outputs": [
    {
     "name": "stdout",
     "output_type": "stream",
     "text": [
      "你輸入的字元：2+, 類型：其他\n"
     ]
    }
   ],
   "source": [
    "### 5. 判斷字元種類\n",
    "import re\n",
    "\n",
    "\n",
    "def judgeCharType(char):\n",
    "    if char.isdigit():\n",
    "        return \"數字\"\n",
    "    elif re.match(r\"[a-zA-Z]\", char):\n",
    "        return \"英文字母\"\n",
    "    elif re.match(r\"[\\W_]\", char):\n",
    "        return \"符號\"\n",
    "    else:\n",
    "        return \"其他\"\n",
    "\n",
    "\n",
    "char = input(\"Q5. 請輸入一個字元\")\n",
    "print(f\"你輸入的字元：{char}, 類型：{judgeCharType(char)}\")"
   ]
  },
  {
   "cell_type": "markdown",
   "id": "497bd9ca",
   "metadata": {},
   "source": [
    "### 題目六"
   ]
  },
  {
   "cell_type": "code",
   "execution_count": 10,
   "id": "ca56c0cf",
   "metadata": {},
   "outputs": [
    {
     "name": "stdout",
     "output_type": "stream",
     "text": [
      "你的分數：50, 對應等級為：F\n"
     ]
    }
   ],
   "source": [
    "### 6. 判斷對應等級\n",
    "def judgeLevel(score):\n",
    "    if score >= 90:\n",
    "        return \"A\"\n",
    "    elif score >= 80 and score < 90:\n",
    "        return \"B\"\n",
    "    elif score >= 70 and score < 80:\n",
    "        return \"C\"\n",
    "    elif score >= 60 and score < 70:\n",
    "        return \"D\"\n",
    "    else:\n",
    "        return \"F\"\n",
    "\n",
    "\n",
    "score = int(input(\"請輸入你的分數\"))\n",
    "print(f\"你的分數：{score}, 對應等級為：{judgeLevel(score)}\")"
   ]
  },
  {
   "cell_type": "markdown",
   "id": "616738dc",
   "metadata": {},
   "source": [
    "### 題目七"
   ]
  },
  {
   "cell_type": "code",
   "execution_count": 9,
   "id": "cf9d1210",
   "metadata": {},
   "outputs": [
    {
     "name": "stdout",
     "output_type": "stream",
     "text": [
      "購買金額:96, 對應折扣為:無折扣\n"
     ]
    }
   ],
   "source": [
    "### 7. 判斷對應折扣\n",
    "def judgeDiscount(price):\n",
    "    if price >= 8000:\n",
    "        if price >= 38000:\n",
    "            return \"7折\"\n",
    "        elif price >= 28000 and price < 38000:\n",
    "            return \"8折\"\n",
    "        elif price >= 18000 and price < 28000:\n",
    "            return \"9折\"\n",
    "        else:\n",
    "            return \"9.5折\"\n",
    "    else:\n",
    "        return \"無折扣\"\n",
    "\n",
    "\n",
    "price = int(input(\"請輸入購買金額\"))\n",
    "print(f\"購買金額:{price}, 對應折扣為:{judgeDiscount(price)}\")"
   ]
  },
  {
   "cell_type": "markdown",
   "id": "5b30ef55",
   "metadata": {},
   "source": [
    "### 題目八*"
   ]
  },
  {
   "cell_type": "code",
   "execution_count": 14,
   "id": "ce8d50b6",
   "metadata": {},
   "outputs": [
    {
     "name": "stdout",
     "output_type": "stream",
     "text": [
      "華氏為：136.4度\n"
     ]
    }
   ],
   "source": [
    "import os\n",
    "os.system(\"cls\")\n",
    "\n",
    "\n",
    "A = input(f'''\n",
    "請選擇溫度機算類型?\n",
    "1. 華氏 \n",
    "2. 攝氏\n",
    "''')\n",
    "\n",
    "if A == '1':\n",
    "    F = eval(input(\"請輸入華氏溫度：\"))\n",
    "    C = (F - 32)*5/9\n",
    "    print(f\"攝氏為：{C:.1f}度\")\n",
    "    \n",
    "elif A == '2':\n",
    "    C = eval(input(\"請輸入攝氏溫度：\"))\n",
    "    F = 32 + C * 9/5\n",
    "    print(f\"華氏為：{F:.1f}度\")\n",
    "\n",
    "else:\n",
    "    print(\"輸入錯誤!\")\n"
   ]
  },
  {
   "cell_type": "markdown",
   "id": "aa6500e3",
   "metadata": {},
   "source": [
    "### 題目九*"
   ]
  },
  {
   "cell_type": "code",
   "execution_count": 16,
   "id": "c482e9e9",
   "metadata": {},
   "outputs": [
    {
     "name": "stdout",
     "output_type": "stream",
     "text": [
      "不是三角形\n"
     ]
    }
   ],
   "source": [
    "### 判斷是否為三角形\n",
    "side1 = eval(input('請三角形A邊長度：'))\n",
    "side2 = eval(input('請三角形B邊長度：'))\n",
    "side3 = eval(input('請三角形C邊長度：'))\n",
    "\n",
    "# 三角形判斷方法：任兩邊相加一定大於第三邊\n",
    "if side1 + side2 > side3 \\\n",
    "    and side2 + side3 > side1 \\\n",
    "    and side3 + side1 > side2:\n",
    "    print(\"周長\",side1+side2+side3)\n",
    "else:\n",
    "    print(\"不是三角形\")"
   ]
  },
  {
   "cell_type": "markdown",
   "id": "18be855b",
   "metadata": {},
   "source": [
    "### 題目十"
   ]
  },
  {
   "cell_type": "code",
   "execution_count": 8,
   "id": "6ac5ef8e",
   "metadata": {},
   "outputs": [
    {
     "name": "stdout",
     "output_type": "stream",
     "text": [
      "升冪排列結果： (1, 2, 3)\n"
     ]
    }
   ],
   "source": [
    "### 10. 任三個整數做升冪排列\n",
    "def ascAllNum(num1, num2, num3):\n",
    "    firstNum = None\n",
    "    secondNum = None\n",
    "    thirdNum = None\n",
    "\n",
    "    if num1 >= num2 and num1 >= num3:\n",
    "        thirdNum = num1\n",
    "        firstNum, secondNum = ascNum(num2, num3)\n",
    "\n",
    "    elif num2 >= num1 and num2 >= num3:\n",
    "        thirdNum = num2\n",
    "        firstNum, secondNum = ascNum(num1, num3)\n",
    "\n",
    "    elif num3 >= num1 and num3 >= num2:\n",
    "        thirdNum = num3\n",
    "        firstNum, secondNum = ascNum(num1, num2)\n",
    "    return firstNum, secondNum, thirdNum\n",
    "\n",
    "\n",
    "def ascNum(num1, num2):\n",
    "    return (num2, num1) if (num1 >= num2) else (num1, num2)\n",
    "\n",
    "\n",
    "print(\"升冪排列結果：\", ascAllNum(3, 1, 2))"
   ]
  }
 ],
 "metadata": {
  "kernelspec": {
   "display_name": "Python 3",
   "language": "python",
   "name": "python3"
  },
  "language_info": {
   "codemirror_mode": {
    "name": "ipython",
    "version": 3
   },
   "file_extension": ".py",
   "mimetype": "text/x-python",
   "name": "python",
   "nbconvert_exporter": "python",
   "pygments_lexer": "ipython3",
   "version": "3.13.7"
  }
 },
 "nbformat": 4,
 "nbformat_minor": 5
}
