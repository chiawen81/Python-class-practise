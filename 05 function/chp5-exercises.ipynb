{
 "cells": [
  {
   "cell_type": "markdown",
   "id": "24659e59",
   "metadata": {},
   "source": [
    "### 語法練習：05函式\n",
    "講義來源：https://docs.google.com/document/d/1IdFIbR6MfRiY2Hcr0R9VM1uK8cnONpqE/edit"
   ]
  },
  {
   "cell_type": "code",
   "execution_count": 1,
   "id": "a5215357",
   "metadata": {},
   "outputs": [],
   "source": [
    "# 共用程式碼\n",
    "##################################################\n",
    "import re\n",
    "\n",
    "\n",
    "# 判斷是否為正整數\n",
    "def isPositiveInt(str):\n",
    "    return re.fullmatch(r\"[1-9]\\d*\", str) is not None"
   ]
  },
  {
   "cell_type": "markdown",
   "id": "6023bb31",
   "metadata": {},
   "source": [
    "### 題目1"
   ]
  },
  {
   "cell_type": "code",
   "execution_count": 2,
   "id": "7d4930fb",
   "metadata": {},
   "outputs": [
    {
     "name": "stdout",
     "output_type": "stream",
     "text": [
      "Q1. 顯示學生訊息:\n",
      "          學號：12\n",
      "          姓名：文文\n",
      "          科系：歷史系\n",
      "          \n"
     ]
    }
   ],
   "source": [
    "### 題目一 ###\n",
    "# 讓使用者輸入學號、姓名、科系，透過呼叫顯示這些訊息。\n",
    "\n",
    "stu_no = input(\"Q1. 請輸入學號\")\n",
    "stu_name = input(\"Q1. 請輸入姓名\")\n",
    "stu_major = input(\"Q1. 請輸入科系\")\n",
    "\n",
    "\n",
    "def compute(stu_no, stu_name, stu_major):\n",
    "    print(\n",
    "        f\"\"\"Q1. 顯示學生訊息:\n",
    "          學號：{stu_no}\n",
    "          姓名：{stu_name}\n",
    "          科系：{stu_major}\n",
    "          \"\"\"\n",
    "    )\n",
    "\n",
    "\n",
    "compute(stu_no, stu_name, stu_major)"
   ]
  },
  {
   "cell_type": "markdown",
   "id": "9e7bed97",
   "metadata": {},
   "source": [
    "### 題目2"
   ]
  },
  {
   "cell_type": "code",
   "execution_count": 3,
   "id": "56991b8b",
   "metadata": {},
   "outputs": [
    {
     "name": "stdout",
     "output_type": "stream",
     "text": [
      "48\n"
     ]
    }
   ],
   "source": [
    "### 題目二 ###\n",
    "# 讓使用者輸入2個數字做為參數，透過呼叫函式，回傳(return x*y)的乘積。\n",
    "\n",
    "q2_num1 = input(\"Q2. 請輸入第一個數字\")\n",
    "q2_num2 = input(\"Q2. 請輸入第二個數字\")\n",
    "\n",
    "\n",
    "def multiply(num1, num2):\n",
    "    if isPositiveInt(num1) and isPositiveInt(num2):\n",
    "        return int(num1) * int(num2)\n",
    "    else:\n",
    "        return None\n",
    "\n",
    "\n",
    "result = multiply(q2_num1, q2_num2)\n",
    "q2_answer = result if result else \"格式有誤，請重新輸入\"\n",
    "\n",
    "print(q2_answer)"
   ]
  },
  {
   "cell_type": "markdown",
   "id": "a6223cef",
   "metadata": {},
   "source": [
    "### 題目3"
   ]
  },
  {
   "cell_type": "code",
   "execution_count": 4,
   "id": "aa21989a",
   "metadata": {},
   "outputs": [
    {
     "name": "stdout",
     "output_type": "stream",
     "text": [
      "3至5之間的加總為12\n"
     ]
    }
   ],
   "source": [
    "### 題目三 ###\n",
    "# 讓使用者輸入2個整數，讓函數回傳這兩個整數連續加總的結果\n",
    "q3_num1 = input(\"Q3. 請輸入第一個數字\")\n",
    "q3_num2 = input(\"Q3. 請輸入第二個數字\")\n",
    "\n",
    "\n",
    "def sum_range(num1, num2):\n",
    "    total = 0  # 清空\n",
    "    if isPositiveInt(num1) and isPositiveInt(num2):\n",
    "        num1, num2 = int(num1), int(num2)  # 此為簡化寫法\n",
    "\n",
    "        for idx, item in enumerate(range(num1, num2 + 1)):\n",
    "            total = total + item\n",
    "    return total\n",
    "\n",
    "\n",
    "def print_sum_range(num1, num2):\n",
    "    sum_range_result = sum_range(num1, num2)\n",
    "    text = (\n",
    "        f\"{num1}至{num2}之間的加總為{sum_range_result}\"\n",
    "        if sum_range_result\n",
    "        else \"格式有誤，請重新輸入數字\"\n",
    "    )\n",
    "\n",
    "    return text\n",
    "\n",
    "\n",
    "print(print_sum_range(q3_num1, q3_num2))"
   ]
  },
  {
   "cell_type": "markdown",
   "id": "5f8e7d5d",
   "metadata": {},
   "source": [
    "### 題目4"
   ]
  },
  {
   "cell_type": "code",
   "execution_count": 5,
   "id": "caa8fe65",
   "metadata": {},
   "outputs": [
    {
     "name": "stdout",
     "output_type": "stream",
     "text": [
      "3的3次方為27\n"
     ]
    }
   ],
   "source": [
    "### 題目四 ###\n",
    "# 使用者傳2個參數給函數，讓函數回傳「x的y次方」的值\n",
    "q4_num1 = input(\"Q4. 請輸入第一個數字\")\n",
    "q4_num2 = input(\"Q4. 請輸入第二個數字\")\n",
    "\n",
    "\n",
    "def print_square_num(ori_num, square_num):\n",
    "    text = \"\"\n",
    "\n",
    "    if isPositiveInt(ori_num) and isPositiveInt(square_num):\n",
    "        ori_num, square_num = int(ori_num), int(square_num)\n",
    "        answer = ori_num**square_num\n",
    "        text = f\"{ori_num}的{square_num}次方為{answer}\"\n",
    "    else:\n",
    "        text = \"格式有誤，請重新輸入!\"\n",
    "\n",
    "    return text\n",
    "\n",
    "\n",
    "print(print_square_num(q4_num1, q4_num2))"
   ]
  },
  {
   "cell_type": "markdown",
   "id": "31cc8042",
   "metadata": {},
   "source": [
    "### 題目5"
   ]
  },
  {
   "cell_type": "code",
   "execution_count": 6,
   "id": "5e27e786",
   "metadata": {},
   "outputs": [
    {
     "name": "stdout",
     "output_type": "stream",
     "text": [
      "最終產生的文案：\n",
      "嗨嗨嗨嗨嗨嗨\n",
      "嗨嗨嗨嗨嗨嗨\n",
      "嗨嗨嗨嗨嗨嗨\n"
     ]
    }
   ],
   "source": [
    "### 題目五 ###\n",
    "# 建立一個函式compute(a,x,y) 使用者輸入3個參數：a (字元)、x(個數)、y(列數)，印出 y列 x個的a字元。\n",
    "q5_char = input(\"Q5. 請輸入一個字元\")\n",
    "q5_row = input(\"Q5. 請輸入要產生幾列\")\n",
    "q5_per_row_create_num = input(f\"Q5. 請輸入每列要產生幾個「{q5_char}」\")\n",
    "\n",
    "\n",
    "# 每列產生的文案\n",
    "def create_per_row_text(per_row_create_num, char):\n",
    "    per_row_text = \"\"\n",
    "\n",
    "    for item in range(per_row_create_num):\n",
    "        per_row_text = per_row_text + char\n",
    "\n",
    "    return per_row_text\n",
    "\n",
    "\n",
    "# 組合每列文字\n",
    "def get_final_text(row_num, per_row_text):\n",
    "    final_text = \"\"\n",
    "\n",
    "    for idx, item in enumerate(range(row_num)):\n",
    "        final_text = final_text + per_row_text\n",
    "\n",
    "        if idx != row_num - 1:\n",
    "            final_text = final_text + \"\\n\"\n",
    "\n",
    "    return final_text\n",
    "\n",
    "\n",
    "# 主程式\n",
    "def get_text(char, row_num, per_row_create_num):\n",
    "    if isPositiveInt(row_num) and isPositiveInt(per_row_create_num):\n",
    "        row_num, per_row_create_num = int(row_num), int(per_row_create_num)\n",
    "        per_row_text = create_per_row_text(per_row_create_num, char)\n",
    "        final_text = get_final_text(row_num, per_row_text)\n",
    "    else:\n",
    "        print(\"格式錯誤，請重新輸入\")\n",
    "\n",
    "    return final_text\n",
    "\n",
    "\n",
    "print(\n",
    "    f\"\"\"最終產生的文案：\n",
    "{get_text(q5_char, q5_row, q5_per_row_create_num)}\"\"\"\n",
    ")\n"
   ]
  },
  {
   "cell_type": "markdown",
   "id": "28bfa748",
   "metadata": {},
   "source": [
    "### 題目6"
   ]
  },
  {
   "cell_type": "code",
   "execution_count": 7,
   "id": "ba4cb89e",
   "metadata": {},
   "outputs": [
    {
     "name": "stdout",
     "output_type": "stream",
     "text": [
      "\n",
      "圓形面積：78.53981633974483\n",
      "長方形面積：32\n",
      "三角形面積：7.5\n",
      "總和面積：118.03981633974483\n",
      "      \n"
     ]
    }
   ],
   "source": [
    "### 題目六 ###\n",
    "# 撰寫圓面積、長方形面積、三角形面積函式，透過輸入圓形半徑、長方形長、寬，三角形底和高，計算並輸出三個圖形面積與三個面積和。\n",
    "import math\n",
    "\n",
    "circle_radius = input(\"Q6. 請輸入辦圓形半徑\")\n",
    "rectangle_length = input(\"Q6. 請輸入長方形的長\")\n",
    "rectangle_width = input(\"Q6. 請輸入長方形的寬\")\n",
    "triangle_length = input(\"Q6. 請輸入三角形的底\")\n",
    "rectangle_height = input(\"Q6. 請輸入三角形的高\")\n",
    "\n",
    "\n",
    "# 取得圓形面積\n",
    "def get_circle_area(radius):\n",
    "    if isPositiveInt(radius):\n",
    "        radius = int(radius)\n",
    "        return int(radius) ** 2 * math.pi\n",
    "\n",
    "\n",
    "# 取得長方形面積\n",
    "def get_rectangle_area(length, width):\n",
    "    if isPositiveInt(length) and isPositiveInt(width):\n",
    "        length, width = int(length), int(width)\n",
    "        return length * width\n",
    "\n",
    "\n",
    "# 取得三角形面積\n",
    "def get_triangle_area(length, height):\n",
    "    if isPositiveInt(length) and isPositiveInt(height):\n",
    "        length, height = int(length), int(height)\n",
    "        return length * height / 2\n",
    "\n",
    "\n",
    "# 取得面積總和\n",
    "def get_total_area(circle_area, rectangle_area, triangle_area):\n",
    "    return circle_area + rectangle_area + triangle_area\n",
    "\n",
    "\n",
    "circle_area = get_circle_area(circle_radius)\n",
    "rectangle_area = get_rectangle_area(rectangle_length, rectangle_width)\n",
    "triangle_area = get_triangle_area(triangle_length, rectangle_height)\n",
    "\n",
    "print(\n",
    "    f\"\"\"\n",
    "圓形面積：{circle_area}\n",
    "長方形面積：{rectangle_area}\n",
    "三角形面積：{triangle_area}\n",
    "總和面積：{get_total_area(circle_area,rectangle_area,triangle_area)}\n",
    "      \"\"\"\n",
    ")\n",
    "\n"
   ]
  },
  {
   "cell_type": "markdown",
   "id": "ab5f0048",
   "metadata": {},
   "source": [
    "### 題目7"
   ]
  },
  {
   "cell_type": "code",
   "execution_count": null,
   "id": "3fa9db0c",
   "metadata": {},
   "outputs": [],
   "source": [
    "# 7.    輸入2個正整數x,y，傳入最大公因數函式內，函式回傳最大公因數計算結果\n",
    "\n",
    "\n",
    "def gcd(x,y):\n",
    "    g = 0\n",
    "\n",
    "\n",
    "    for i in range(1,max(x,y)+1):\n",
    "        if x % i == 0 and y % i == 0:\n",
    "            g = i\n",
    "    return g\n",
    "\n",
    "\n",
    "def main():\n",
    "    x = int(input('輸入x：'))\n",
    "    y = int(input('輸入y：'))\n",
    "    g = gcd(x,y)\n",
    "    print(g)\n",
    "\n",
    "\n",
    "main()\n"
   ]
  },
  {
   "cell_type": "markdown",
   "id": "04b7895c",
   "metadata": {},
   "source": [
    "### 題目8"
   ]
  },
  {
   "cell_type": "code",
   "execution_count": null,
   "id": "5938f273",
   "metadata": {},
   "outputs": [],
   "source": [
    "'''\n",
    "8.  某市區停車場車位不足，為鼓勵車輛提早移出，進行如下規範：\n",
    "(a). 2小時以內(含2小時)，每小時以30元計算\n",
    "(b). 2小時以上到4小時(含4小時)，每小時以50元計算\n",
    "(c). 4小時以上到6小時(含6小時)，每小時以80元計算\n",
    "(d). 6小時以上，每小時以100元計算\n",
    "\n",
    "\n",
    "請撰寫程式輸入停車時數，傳入函數參數內，函數傳回停車費計算結果。\n",
    "\n",
    "\n",
    "'''\n",
    "def timePay(t):\n",
    "    p = 0\n",
    "    if t > 6:\n",
    "        p = (t-6)*100\n",
    "        t=6\n",
    "    if 4 < t <= 6:\n",
    "        p = p+((t-4)*80)\n",
    "        t=4\n",
    "    if 2 < t <= 4:\n",
    "        p = p+((t-2)*50)\n",
    "        t=2\n",
    "    if t <= 2:\n",
    "        p = p+(t * 30)\n",
    "    return p\n",
    "\n",
    "\n",
    "def main():\n",
    "    t = int(input (\"請輸入停車時數：\"))\n",
    "    p = timePay(t)\n",
    "    print (\"停車費：%d\"%p)\n",
    "\n",
    "\n",
    "main()\n"
   ]
  },
  {
   "cell_type": "markdown",
   "id": "308160be",
   "metadata": {},
   "source": [
    "### 題目9"
   ]
  },
  {
   "cell_type": "code",
   "execution_count": null,
   "id": "ef03c17e",
   "metadata": {},
   "outputs": [],
   "source": [
    "# 9.  使用函數撰寫骰子比大小程式，先由電腦模擬投擲三個骰子和，再由使用者輸入一個值(自訂)模擬投擲動作，透過亂數產生三個骰子和，並和電腦輸出結果比大小，印出\"你贏了\"或\"你輸了\"。\n",
    "'''\n",
    "import os\n",
    "os.system('cls')\n",
    "# '''\n",
    "import random\n",
    "def running():\n",
    "    r = 0\n",
    "    for i in range(0,3):\n",
    "        r = r + (random.randint(1,6))\n",
    "    l = 0\n",
    "    for i in range(0,3):\n",
    "        l = l + (random.randint(1,6))\n",
    "    print(f\"電腦點數：{r}，你的點數{l}\")\n",
    "    compare(r,l)\n",
    "\n",
    "\n",
    "def compare(r,l):\n",
    "    if r > l : \n",
    "        print(\"你輸了\")\n",
    "    elif r == l:\n",
    "        print(\"平手\")\n",
    "    else:\n",
    "        print(\"你贏了\")\n",
    "\n",
    "\n",
    "a = input('投擲骰子：(Y)')\n",
    "if a != 'Y' and a!= 'y':\n",
    "    print (\"遊戲結束\")\n",
    "else:\n",
    "    running()\n",
    "\n",
    "\n"
   ]
  }
 ],
 "metadata": {
  "kernelspec": {
   "display_name": "venv1",
   "language": "python",
   "name": "python3"
  },
  "language_info": {
   "codemirror_mode": {
    "name": "ipython",
    "version": 3
   },
   "file_extension": ".py",
   "mimetype": "text/x-python",
   "name": "python",
   "nbconvert_exporter": "python",
   "pygments_lexer": "ipython3",
   "version": "3.11.13"
  }
 },
 "nbformat": 4,
 "nbformat_minor": 5
}
