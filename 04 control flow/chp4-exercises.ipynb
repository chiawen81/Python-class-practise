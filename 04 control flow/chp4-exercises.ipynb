{
 "cells": [
  {
   "cell_type": "markdown",
   "id": "24659e59",
   "metadata": {},
   "source": [
    "### 語法練習：04 流程控制應用\n",
    "講義來源：https://docs.google.com/document/d/1gyuk66bQsMqpUYnBXSg4DWz5LXqB_880/edit?rtpof=true&tab=t.0"
   ]
  },
  {
   "cell_type": "code",
   "execution_count": 3,
   "id": "798c9948",
   "metadata": {},
   "outputs": [],
   "source": [
    "#########################\n",
    "# 共用程式碼\n",
    "#########################\n",
    "import re\n",
    "\n",
    "\n",
    "# 判斷是否為正整數\n",
    "def isPositiveInt(str):\n",
    "    return re.fullmatch(r\"[1-9]\\d*\", str) is not None"
   ]
  },
  {
   "cell_type": "markdown",
   "id": "6023bb31",
   "metadata": {},
   "source": [
    "### 題目1"
   ]
  },
  {
   "cell_type": "code",
   "execution_count": 1,
   "id": "7d4930fb",
   "metadata": {},
   "outputs": [
    {
     "name": "stdout",
     "output_type": "stream",
     "text": [
      "user的輸入紀錄：2 5 8 9 4 5 6 2 1 5 ，最小值為1\n"
     ]
    }
   ],
   "source": [
    "# 由使用者輸入10個數字，找出其中的最小值並且輸出\n",
    "q1_min_num = 0\n",
    "q1_record = \"\"\n",
    "\n",
    "for idx in range(10):\n",
    "    user_input = int(input(f\"Q1. 請輸入第{idx+1}個數字\"))\n",
    "    q1_record = q1_record + str(user_input) + \" \"\n",
    "\n",
    "    if idx == 0:\n",
    "        q1_min_num = user_input\n",
    "    else:\n",
    "        q1_min_num = user_input if (q1_min_num > user_input) else q1_min_num\n",
    "\n",
    "print(f\"user的輸入紀錄：{q1_record}，最小值為{q1_min_num}\")"
   ]
  },
  {
   "cell_type": "markdown",
   "id": "9e7bed97",
   "metadata": {},
   "source": [
    "### 題目2"
   ]
  },
  {
   "cell_type": "code",
   "execution_count": 2,
   "id": "56991b8b",
   "metadata": {},
   "outputs": [
    {
     "name": "stdout",
     "output_type": "stream",
     "text": [
      "user的輸入紀錄：55 66 44 22 33 44 55 66 44566 9999 ，最小值為22\n"
     ]
    }
   ],
   "source": [
    "# 使用者任意輸入數字，一旦輸入值為9999則結束\n",
    "# 並找出其所輸入的最小值，並輸出\n",
    "q2_min_num = 0\n",
    "q2_record = \"\"\n",
    "\n",
    "while True:\n",
    "    user_input = input(\"Q2. 請輸入數字\")\n",
    "    q2_min_num = int(user_input) if q2_record == \"\" else q2_min_num\n",
    "    q2_record = q2_record + user_input + \" \"\n",
    "\n",
    "    if int(user_input) == 9999:\n",
    "        break\n",
    "    else:\n",
    "        q2_min_num = int(user_input) if (q2_min_num > int(user_input)) else q2_min_num\n",
    "\n",
    "print(f\"user的輸入紀錄：{q2_record}，最小值為{q2_min_num}\")"
   ]
  },
  {
   "cell_type": "markdown",
   "id": "a6223cef",
   "metadata": {},
   "source": [
    "### 題目3"
   ]
  },
  {
   "cell_type": "code",
   "execution_count": 4,
   "id": "aa21989a",
   "metadata": {},
   "outputs": [
    {
     "name": "stdout",
     "output_type": "stream",
     "text": [
      "\n",
      "       1. 第一個正整數 12，第二個正整數 36\n",
      "       2. 4或9倍數為： 12 16 18 20 24 27 28 32 36 \n",
      "       3. 共有9個\n",
      "       4. 總和為213\n",
      "      \n"
     ]
    }
   ],
   "source": [
    "# 由使用者輸入兩個正整數a、b，且a需小於b\n",
    "# 輸出從a到b(包含a 、b)之間4或9的倍數(一列輸出10個數字，欄寬為4、靠左對齊)。\n",
    "# 輸出4或9的倍數共有幾個數\n",
    "# 輸出4或9的倍數加總和\n",
    "q3_num1 = input(\"Q3. 請輸入第一個正整數\")\n",
    "q3_num2 = input(\"Q3. 請輸入第二個正整數(需大於第一個數字)\")\n",
    "q3_record_muti49 = \"\"\n",
    "q3_total = 0\n",
    "valid_count = 0\n",
    "\n",
    "if isPositiveInt(q3_num1) and isPositiveInt(q3_num2) and (int(q3_num2) > int(q3_num1)):\n",
    "    q3_num1 = int(q3_num1)\n",
    "    q3_num2 = int(q3_num2)\n",
    "    valid_count = 0  # 清空\n",
    "\n",
    "    for idx, item in enumerate(range(q3_num1, q3_num2 + 1)):\n",
    "        if (item % 4 == 0) or (item % 9 == 0):\n",
    "            q3_record_muti49 = q3_record_muti49 + str(item) + \" \"\n",
    "            q3_total = q3_total + item\n",
    "            valid_count += 1\n",
    "\n",
    "            if (idx + 1) % 10 == 0:\n",
    "                q3_record_muti49 = q3_record_muti49 + \"\\n\"\n",
    "\n",
    "else:\n",
    "    print(\"輸入格式錯誤! 請重新輸入!\")\n",
    "\n",
    "\n",
    "print(\n",
    "    f\"\"\"\n",
    "       1. 第一個正整數 {q3_num1}，第二個正整數 {q3_num2}\n",
    "       2. 4或9倍數為： {q3_record_muti49}\n",
    "       3. 共有{valid_count}個\n",
    "       4. 總和為{q3_total}\n",
    "      \"\"\"\n",
    ")"
   ]
  },
  {
   "cell_type": "markdown",
   "id": "5f8e7d5d",
   "metadata": {},
   "source": [
    "### 題目4"
   ]
  },
  {
   "cell_type": "code",
   "execution_count": null,
   "id": "caa8fe65",
   "metadata": {},
   "outputs": [
    {
     "name": "stdout",
     "output_type": "stream",
     "text": [
      "55"
     ]
    }
   ],
   "source": [
    "'''\n",
    "4   撰寫一個程式：\n",
    "4.1 輸入一個正整數。\n",
    "4.2 將這個正整數以反轉的順序輸出。\n",
    "4.3 若輸入值為0，就輸出0\n",
    "'''\n",
    "\n",
    "\n",
    "n = int(input(\"輸入正整數：\"))\n",
    "\n",
    "if n != 0:\n",
    "    while n != 0:\n",
    "        a = n % 10\n",
    "        n //= 10\n",
    "        print(a,end ='')\n",
    "\n",
    "else:\n",
    "    print(n)"
   ]
  },
  {
   "cell_type": "markdown",
   "id": "31cc8042",
   "metadata": {},
   "source": [
    "### 題目5"
   ]
  },
  {
   "cell_type": "code",
   "execution_count": null,
   "id": "5e27e786",
   "metadata": {},
   "outputs": [
    {
     "name": "stdout",
     "output_type": "stream",
     "text": [
      "E\n",
      "輸入錯誤!\n"
     ]
    },
    {
     "ename": "ValueError",
     "evalue": "invalid literal for int() with base 10: ''",
     "output_type": "error",
     "traceback": [
      "\u001b[31m---------------------------------------------------------------------------\u001b[39m",
      "\u001b[31mValueError\u001b[39m                                Traceback (most recent call last)",
      "\u001b[36mCell\u001b[39m\u001b[36m \u001b[39m\u001b[32mIn[7]\u001b[39m\u001b[32m, line 21\u001b[39m\n\u001b[32m     19\u001b[39m score = \u001b[32m0\u001b[39m\n\u001b[32m     20\u001b[39m \u001b[38;5;28;01mwhile\u001b[39;00m \u001b[38;5;28;01mTrue\u001b[39;00m:\n\u001b[32m---> \u001b[39m\u001b[32m21\u001b[39m     score = \u001b[38;5;28;43mint\u001b[39;49m\u001b[43m(\u001b[49m\u001b[38;5;28;43minput\u001b[39;49m\u001b[43m(\u001b[49m\u001b[33;43m'\u001b[39;49m\u001b[33;43m輸入成績：\u001b[39;49m\u001b[33;43m'\u001b[39;49m\u001b[43m)\u001b[49m\u001b[43m)\u001b[49m\n\u001b[32m     22\u001b[39m     \u001b[38;5;28;01mif\u001b[39;00m score == \u001b[32m9999\u001b[39m:\n\u001b[32m     23\u001b[39m         \u001b[38;5;28;01mbreak\u001b[39;00m\n",
      "\u001b[31mValueError\u001b[39m: invalid literal for int() with base 10: ''"
     ]
    }
   ],
   "source": [
    "'''\n",
    "5   撰寫一個程式：\n",
    "5.1 輸入一個代表成績的正整數。\n",
    "5.2 根據分數與等級對照表，印出對應的等級。\n",
    "5.3 輸入-9999結束迴圈\n",
    "\n",
    "\n",
    "分數  等級\n",
    "90 ~ 100\t\tA\n",
    "80 ~ 89 \t\tB\n",
    "70 ~ 79 \t\tC\n",
    "60 ~ 69 \t\tD\n",
    "0 ~ 59 \t\tE\n",
    "\n",
    "\n",
    "'''\n",
    "\n",
    "\n",
    "# score = 0\n",
    "# while True:\n",
    "#     score = int(input('輸入成績：'))\n",
    "#     if score == 9999:\n",
    "#         break\n",
    "#     if 90 <= score <= 100:\n",
    "#         grade = 'A'\n",
    "#     elif 80 <= score <= 89:\n",
    "#         grade = 'B'\n",
    "#     elif 70 <= score <= 79:\n",
    "#         grade = 'C'\n",
    "#     elif 60 <= score <= 69:\n",
    "#         grade = 'D'\n",
    "#     elif 0 <= score <= 59:\n",
    "#         grade = 'E'\n",
    "#     else:\n",
    "#         grade =\"輸入錯誤!\"\n",
    "#     print(grade)"
   ]
  },
  {
   "cell_type": "markdown",
   "id": "28bfa748",
   "metadata": {},
   "source": [
    "### 題目6"
   ]
  },
  {
   "cell_type": "code",
   "execution_count": null,
   "id": "ba4cb89e",
   "metadata": {},
   "outputs": [
    {
     "ename": "SyntaxError",
     "evalue": "invalid syntax (<string>, line 0)",
     "output_type": "error",
     "traceback": [
      "Traceback \u001b[36m(most recent call last)\u001b[39m:\n",
      "  File \u001b[92mc:\\Users\\User\\miniconda3\\envs\\venv1\\Lib\\site-packages\\IPython\\core\\interactiveshell.py:3667\u001b[39m in \u001b[95mrun_code\u001b[39m\n    exec(code_obj, self.user_global_ns, self.user_ns)\n",
      "\u001b[36m  \u001b[39m\u001b[36mCell\u001b[39m\u001b[36m \u001b[39m\u001b[32mIn[12]\u001b[39m\u001b[32m, line 18\u001b[39m\n\u001b[31m    \u001b[39m\u001b[31mweight = eval(input(\"輸入體重：\"))\u001b[39m\n",
      "  \u001b[36mFile \u001b[39m\u001b[32m<string>\u001b[39m\n\u001b[31m    \u001b[39m\n    ^\n\u001b[31mSyntaxError\u001b[39m\u001b[31m:\u001b[39m invalid syntax\n"
     ]
    }
   ],
   "source": [
    "'''\n",
    "6   撰寫一個程式：\n",
    "6.1 以迴圈方式，提供使用者反覆輸入身高與體重，直到輸入-9999結束。\n",
    "6.2 計算出BMI值，並列印出相對應的意義。\n",
    "6.3 輸出到小數點後第二位。\n",
    "\n",
    "\n",
    "BMI 說明\n",
    "< 18.5  過輕\n",
    "18.5 - 24.9 正常\n",
    "25.0 - 29.9 過重\n",
    "> 30    肥胖\n",
    "'''\n",
    "\n",
    "# state = \"\"\n",
    "# height = eval(input(\"輸入身高：\"))\n",
    "# while height != -9999:\n",
    "#     weight = eval(input(\"輸入體重：\"))\n",
    "#     bmi = weight/(height/100 *height/100)\n",
    "#     if weight == -9999:\n",
    "#         break\n",
    "#     elif bmi >= 30:\n",
    "#         state = \"過胖\"\n",
    "#     elif 25 <= bmi < 30:\n",
    "#         state = \"過重\"\n",
    "#     elif 18.5 <= bmi < 25:\n",
    "#         state = \"正常\"\n",
    "#     elif bmi < 18.5:\n",
    "#         state = \"太輕\"\n",
    "#     print(\"BMI：%.2f\" % bmi)\n",
    "#     print(\"體質: %s：\"%state)\n",
    "    \n",
    "#     height = eval(input(\"輸入身高：\"))"
   ]
  },
  {
   "cell_type": "markdown",
   "id": "ab5f0048",
   "metadata": {},
   "source": [
    "### 題目7"
   ]
  },
  {
   "cell_type": "code",
   "execution_count": null,
   "id": "3fa9db0c",
   "metadata": {},
   "outputs": [
    {
     "name": "stdout",
     "output_type": "stream",
     "text": [
      "2020年是閏年\n",
      "2021年不是閏年\n",
      "2025年不是閏年\n",
      "-999年不是閏年\n",
      "-999年不是閏年\n"
     ]
    },
    {
     "ename": "ValueError",
     "evalue": "invalid literal for int() with base 10: ''",
     "output_type": "error",
     "traceback": [
      "\u001b[31m---------------------------------------------------------------------------\u001b[39m",
      "\u001b[31mValueError\u001b[39m                                Traceback (most recent call last)",
      "\u001b[36mCell\u001b[39m\u001b[36m \u001b[39m\u001b[32mIn[11]\u001b[39m\u001b[32m, line 9\u001b[39m\n\u001b[32m      1\u001b[39m \u001b[33;03m'''\u001b[39;00m\n\u001b[32m      2\u001b[39m \u001b[33;03m7   撰寫一個程式：\u001b[39;00m\n\u001b[32m      3\u001b[39m \u001b[33;03m7.1 以迴圈方式，提供使用者反覆輸入西元年分，直到輸入-999結束。\u001b[39;00m\n\u001b[32m   (...)\u001b[39m\u001b[32m      6\u001b[39m \n\u001b[32m      7\u001b[39m \u001b[33;03m'''\u001b[39;00m\n\u001b[32m      8\u001b[39m \u001b[38;5;28;01mwhile\u001b[39;00m \u001b[38;5;28;01mTrue\u001b[39;00m:\n\u001b[32m----> \u001b[39m\u001b[32m9\u001b[39m     year = \u001b[38;5;28;43mint\u001b[39;49m\u001b[43m \u001b[49m\u001b[43m(\u001b[49m\u001b[38;5;28;43minput\u001b[39;49m\u001b[43m(\u001b[49m\u001b[33;43m\"\u001b[39;49m\u001b[33;43m請輸入西元年：\u001b[39;49m\u001b[33;43m\"\u001b[39;49m\u001b[43m)\u001b[49m\u001b[43m)\u001b[49m\n\u001b[32m     11\u001b[39m     \u001b[38;5;28;01mif\u001b[39;00m year == -\u001b[32m9999\u001b[39m:\n\u001b[32m     12\u001b[39m         \u001b[38;5;28;01mbreak\u001b[39;00m\n",
      "\u001b[31mValueError\u001b[39m: invalid literal for int() with base 10: ''"
     ]
    }
   ],
   "source": [
    "'''\n",
    "7   撰寫一個程式：\n",
    "7.1 以迴圈方式，提供使用者反覆輸入西元年分，直到輸入-999結束。\n",
    "7.2 判斷輸入年份是否為閏年。判斷規則為，每4年一閏，100年不閏，但400年也一閏\n",
    "\n",
    "\n",
    "'''\n",
    "# while True:\n",
    "#     year = int (input(\"請輸入西元年：\"))\n",
    "    \n",
    "#     if year == -9999:\n",
    "#         break\n",
    "\n",
    "\n",
    "#     if year % 400 == 0 or (year % 4 == 0 and year % 100 != 0):\n",
    "#         print(\"%d年是閏年\" %year)\n",
    "        \n",
    "\n",
    "#     else:\n",
    "#         print(\"%d年不是閏年\" %year)"
   ]
  },
  {
   "cell_type": "markdown",
   "id": "04b7895c",
   "metadata": {},
   "source": [
    "### 題目8"
   ]
  },
  {
   "cell_type": "code",
   "execution_count": 10,
   "id": "5938f273",
   "metadata": {},
   "outputs": [
    {
     "name": "stdout",
     "output_type": "stream",
     "text": [
      " 2000 2004 2008 2012 2016 2020 2024"
     ]
    }
   ],
   "source": [
    "'''\n",
    "8   撰寫一個程式：\n",
    "8.1 輸入兩個西元年分，顯示兩個西元年分之間所有閏年。\n",
    "8.2 每一列輸出10筆資料，並且對齊\n",
    "\n",
    "\n",
    "'''\n",
    "y1,y2 = eval (input('輸入兩個西元年(逗號分隔)：'))\n",
    "for i in range(y1,y2+1):\n",
    "    if i % 400 == 0 or (i % 4 == 0 and i % 100 != 0):\n",
    "        print(f'{i:5d}',end='')"
   ]
  },
  {
   "cell_type": "markdown",
   "id": "308160be",
   "metadata": {},
   "source": [
    "### 題目9"
   ]
  },
  {
   "cell_type": "code",
   "execution_count": 8,
   "id": "ef03c17e",
   "metadata": {},
   "outputs": [
    {
     "name": "stdout",
     "output_type": "stream",
     "text": [
      "12 32 36 三個數的最大公因數是：4\n"
     ]
    }
   ],
   "source": [
    "'''\n",
    "9   輸入3個正整數 a、b、c然後求出最大公因數\n",
    "'''\n",
    "a = int(input('輸入正整數a：'))\n",
    "b = int(input('輸入正整數b：'))\n",
    "c = int(input('輸入正整數c：'))\n",
    "\n",
    "\n",
    "gcd =1\n",
    "k = 1\n",
    "while k<=a or k<=b or k<=c:         # k大於a、b、c任何一個數的時候，迴圈結束\n",
    "    if a % k == 0 and b % k == 0 and c % k == 0:  #a、b、c 可以同時被 k 整除，表示k是a、b、c公因素\n",
    "        gcd = k                                   # 把公因數k寫入gcd(會覆蓋前一次寫入)，最後一次寫入的就是最大公因數\n",
    "    k+=1\n",
    "print (f'{a} {b} {c} 三個數的最大公因數是：{gcd}')"
   ]
  }
 ],
 "metadata": {
  "kernelspec": {
   "display_name": "venv1",
   "language": "python",
   "name": "python3"
  },
  "language_info": {
   "codemirror_mode": {
    "name": "ipython",
    "version": 3
   },
   "file_extension": ".py",
   "mimetype": "text/x-python",
   "name": "python",
   "nbconvert_exporter": "python",
   "pygments_lexer": "ipython3",
   "version": "3.11.13"
  }
 },
 "nbformat": 4,
 "nbformat_minor": 5
}
